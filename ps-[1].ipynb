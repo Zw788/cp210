{
 "cells": [
  {
   "cell_type": "markdown",
   "metadata": {},
   "source": [
    "# 1."
   ]
  },
  {
   "cell_type": "code",
   "execution_count": 1,
   "metadata": {},
   "outputs": [
    {
     "data": {
      "image/png": "[encoded data removed]",
      "text/plain": [
       "<matplotlib.figure.Figure at 0x21e0f03cdd8>"
      ]
     },
     "metadata": {},
     "output_type": "display_data"
    }
   ],
   "source": [
    "import numpy as np\n",
    "import matplotlib.pyplot as plt\n",
    "\n",
    "\n",
    "x = np.linspace(-10,10,1000)\n",
    "y = (np.exp(-(x**2)/(18)))*(18*(np.pi))**(-0.5)\n",
    "\n",
    "\n",
    "plt.title(r\"$ f(x)=\\frac {1}{\\sqrt{2\\pi 3^{2}}} \\exp({-\\frac {x^2}{2*3^2}})$\",y=1.05)\n",
    "plt.xlabel(r\"$x$\")\n",
    "plt.ylabel(r\"$y$\")\n",
    "plt.xlim(-10,10)\n",
    "plt.plot(x,y)\n",
    "plt.show()"
   ]
  },
  {
   "cell_type": "markdown",
   "metadata": {},
   "source": [
    "# 2."
   ]
  },
  {
   "cell_type": "code",
   "execution_count": 2,
   "metadata": {},
   "outputs": [
    {
     "name": "stdout",
     "output_type": "stream",
     "text": [
      "For single precision, underflow limit is 1.4013e-45 =2^(-149) with 150 number of iterations.\n",
      "Overflow limit is 1.70141e+38 =2^(127) with 128 number of iterations. Technically, it should be 2^(128)-1.\n"
     ]
    },
    {
     "name": "stderr",
     "output_type": "stream",
     "text": [
      "C:\\Users\\Wang\\Anaconda3\\lib\\site-packages\\ipykernel_launcher.py:13: RuntimeWarning: overflow encountered in float_scalars\n",
      "  del sys.path[0]\n"
     ]
    }
   ],
   "source": [
    "under = np.float32(1.0)\n",
    "over = np.float32(1.0)\n",
    "final_u=0\n",
    "final_o=0\n",
    "Nu=0\n",
    "No=0\n",
    "for n in np.arange(2**9):\n",
    "    final_u=under\n",
    "    under = under*np.float32(0.5); Nu=Nu+1\n",
    "    if under == 0: break\n",
    "for n in np.arange(2**9):\n",
    "    final_o=over\n",
    "    over = over*np.float32(2); No=No+1\n",
    "    if np.isinf(over): break\n",
    "\n",
    "print(\"For single precision, underflow limit is\",final_u,\"=2^(-149)\",\"with\",Nu,\"number of iterations.\")\n",
    "print(\"Overflow limit is\",final_o,\"=2^(127)\",\"with\",No,\"number of iterations.\",\"Technically, it should be 2^(128)-1.\")"
   ]
  },
  {
   "cell_type": "code",
   "execution_count": 3,
   "metadata": {},
   "outputs": [
    {
     "name": "stdout",
     "output_type": "stream",
     "text": [
      "For Double precision, underflow limit is 4.94065645841e-324 =2^(-1074) with 1075 number of iterations.\n",
      "Overflow limit is 8.98846567431e+307 =2^(1023) with 1024 number of iterations. Technically, it should be 2^(1024)-1.\n"
     ]
    },
    {
     "name": "stderr",
     "output_type": "stream",
     "text": [
      "C:\\Users\\Wang\\Anaconda3\\lib\\site-packages\\ipykernel_launcher.py:13: RuntimeWarning: overflow encountered in double_scalars\n",
      "  del sys.path[0]\n"
     ]
    }
   ],
   "source": [
    "under = np.float64(1.0)\n",
    "over = np.float64(1.0)\n",
    "final_u=0\n",
    "final_o=0\n",
    "Nu=0\n",
    "No=0\n",
    "for n in np.arange(2**13):\n",
    "    final_u=under\n",
    "    under = under*np.float64(0.5); Nu=Nu+1\n",
    "    if under == 0: break\n",
    "for n in np.arange(2**13):\n",
    "    final_o=over\n",
    "    over = over*np.float64(2); No=No+1\n",
    "    if np.isinf(over): break\n",
    "\n",
    "print(\"For Double precision, underflow limit is\",final_u,\"=2^(-1074)\",\"with\",Nu,\"number of iterations.\")\n",
    "print(\"Overflow limit is\",final_o,\"=2^(1023)\",\"with\",No,\"number of iterations.\",\"Technically, it should be 2^(1024)-1.\")"
   ]
  },
  {
   "cell_type": "code",
   "execution_count": 4,
   "metadata": {},
   "outputs": [
    {
     "name": "stdout",
     "output_type": "stream",
     "text": [
      "For integers, underflow limit is -9223372036854775808 =-2^(63) with 64 number of iterations.\n",
      "Overflow limit is 4611686018427387904 =2^(62) with 63 number of iterations. Technically, it should be 2^(63)-1.\n"
     ]
    },
    {
     "name": "stderr",
     "output_type": "stream",
     "text": [
      "C:\\Users\\Wang\\Anaconda3\\lib\\site-packages\\ipykernel_launcher.py:13: RuntimeWarning: overflow encountered in longlong_scalars\n",
      "  del sys.path[0]\n"
     ]
    }
   ],
   "source": [
    "under = np.int64(1)\n",
    "over = np.int64(1.0)\n",
    "final_u=0\n",
    "final_o=0\n",
    "Nu=0\n",
    "No=0\n",
    "for n in np.arange(2**13):\n",
    "    final_u=under\n",
    "    under = under*np.int64(-2); Nu=Nu+1\n",
    "    if under == 0: break\n",
    "for n in np.arange(2**13):\n",
    "    final_o=over\n",
    "    over = over*np.int64(2); No=No+1\n",
    "    if over < 0: break\n",
    "\n",
    "print(\"For integers, underflow limit is\",final_u,\"=-2^(63)\",\"with\",Nu,\"number of iterations.\")\n",
    "print(\"Overflow limit is\",final_o,\"=2^(62)\",\"with\",No,\"number of iterations.\",\"Technically, it should be 2^(63)-1.\")"
   ]
  },
  {
   "cell_type": "markdown",
   "metadata": {},
   "source": [
    "# 3."
   ]
  },
  {
   "cell_type": "markdown",
   "metadata": {},
   "source": [
    "\"Good Way\"\n"
   ]
  },
  {
   "cell_type": "code",
   "execution_count": 23,
   "metadata": {
    "collapsed": true
   },
   "outputs": [],
   "source": [
    "import math as ma\n",
    "import scipy.misc as sci\n",
    "\n",
    "def Goodsum( a=None, tolerance=None):\n",
    "    sums=0\n",
    "    error=np.inf\n",
    "    b=1\n",
    "    fac=1\n",
    "    k=0\n",
    "    while error > tolerance:\n",
    "        sums=sums + (a**(b))/(fac*(-1)**k)\n",
    "        error=np.abs(np.sin(a)-sums)/np.abs(np.sin(a))\n",
    "        fac=fac*(b+1)*(b+2)\n",
    "        k=k+1\n",
    "        b=b+2\n",
    "    return(a, (b-1)/2, sums, error)"
   ]
  },
  {
   "cell_type": "code",
   "execution_count": 24,
   "metadata": {},
   "outputs": [
    {
     "name": "stdout",
     "output_type": "stream",
     "text": [
      "x imax sum |sum - sin(x)|/sin(x)\n",
      "(0.01, 2.0, 0.009999833333333333, 8.3334555658333091e-11)\n",
      "(0.05, 3.0, 0.04997916927083334, 3.1014511281667759e-12)\n",
      "(0.1, 3.0, 0.09983341666666667, 1.9871622531017512e-10)\n",
      "(0.15, 3.0, 0.1494381328125, 2.2678334552589338e-09)\n",
      "(0.2, 4.0, 0.19866933079365082, 7.0992315183418576e-12)\n",
      "(0.3, 4.0, 0.29552020660714284, 1.833942365347668e-10)\n",
      "(0.5, 5.0, 0.4794255386164159, 2.5474023339772714e-11)\n",
      "(1, 6.0, 0.841470984648068, 1.8993938788946215e-10)\n",
      "(3, 10.0, 0.14112000785871492, 1.4253987938012473e-09)\n",
      "(10, 20.0, -0.5440211137210484, 5.2050896787711579e-09)\n"
     ]
    }
   ],
   "source": [
    "print( \"x\", \"imax\", \"sum\", \"|sum - sin(x)|/sin(x)\")\n",
    "for j in [0.01, 0.05, 0.1, 0.15, 0.2, 0.3, 0.5, 1, 3,10]:\n",
    "    print(Goodsum(j, 10**(-8)))"
   ]
  },
  {
   "cell_type": "markdown",
   "metadata": {},
   "source": [
    "With small numbers, the algorithm converges in taylor expansion when the tolerance is at 10^(-8). "
   ]
  },
  {
   "cell_type": "code",
   "execution_count": 25,
   "metadata": {},
   "outputs": [
    {
     "name": "stdout",
     "output_type": "stream",
     "text": [
      "x imax sum |sum - sin(x)|/sin(x)\n",
      "(4, 11.0, -0.7568024926569087, 3.50292121320536e-09)\n",
      "(5, 13.0, -0.9589242739994107, 6.9215865837715699e-10)\n",
      "(6, 15.0, -0.2794154980429545, 5.5820578298044331e-10)\n",
      "(10, 20.0, -0.5440211137210484, 5.2050896787711579e-09)\n"
     ]
    },
    {
     "ename": "KeyboardInterrupt",
     "evalue": "",
     "output_type": "error",
     "traceback": [
      "\u001b[1;31m---------------------------------------------------------------------------\u001b[0m",
      "\u001b[1;31mKeyboardInterrupt\u001b[0m                         Traceback (most recent call last)",
      "\u001b[1;32m<ipython-input-25-9a9ff25d57ae>\u001b[0m in \u001b[0;36m<module>\u001b[1;34m()\u001b[0m\n\u001b[0;32m      1\u001b[0m \u001b[0mprint\u001b[0m\u001b[1;33m(\u001b[0m \u001b[1;34m\"x\"\u001b[0m\u001b[1;33m,\u001b[0m \u001b[1;34m\"imax\"\u001b[0m\u001b[1;33m,\u001b[0m \u001b[1;34m\"sum\"\u001b[0m\u001b[1;33m,\u001b[0m \u001b[1;34m\"|sum - sin(x)|/sin(x)\"\u001b[0m\u001b[1;33m)\u001b[0m\u001b[1;33m\u001b[0m\u001b[0m\n\u001b[0;32m      2\u001b[0m \u001b[1;32mfor\u001b[0m \u001b[0mj\u001b[0m \u001b[1;32min\u001b[0m \u001b[1;33m[\u001b[0m\u001b[1;36m4\u001b[0m\u001b[1;33m,\u001b[0m \u001b[1;36m5\u001b[0m\u001b[1;33m,\u001b[0m \u001b[1;36m6\u001b[0m\u001b[1;33m,\u001b[0m \u001b[1;36m10\u001b[0m\u001b[1;33m,\u001b[0m \u001b[1;36m30\u001b[0m\u001b[1;33m]\u001b[0m\u001b[1;33m:\u001b[0m\u001b[1;33m\u001b[0m\u001b[0m\n\u001b[1;32m----> 3\u001b[1;33m     \u001b[0mprint\u001b[0m\u001b[1;33m(\u001b[0m\u001b[0mGoodsum\u001b[0m\u001b[1;33m(\u001b[0m\u001b[0mj\u001b[0m\u001b[1;33m,\u001b[0m \u001b[1;36m10\u001b[0m\u001b[1;33m**\u001b[0m\u001b[1;33m(\u001b[0m\u001b[1;33m-\u001b[0m\u001b[1;36m8\u001b[0m\u001b[1;33m)\u001b[0m\u001b[1;33m)\u001b[0m\u001b[1;33m)\u001b[0m\u001b[1;33m\u001b[0m\u001b[0m\n\u001b[0m",
      "\u001b[1;32m<ipython-input-23-d2b533684a8a>\u001b[0m in \u001b[0;36mGoodsum\u001b[1;34m(a, tolerance)\u001b[0m\n\u001b[0;32m      9\u001b[0m     \u001b[0mk\u001b[0m\u001b[1;33m=\u001b[0m\u001b[1;36m0\u001b[0m\u001b[1;33m\u001b[0m\u001b[0m\n\u001b[0;32m     10\u001b[0m     \u001b[1;32mwhile\u001b[0m \u001b[0merror\u001b[0m \u001b[1;33m>\u001b[0m \u001b[0mtolerance\u001b[0m\u001b[1;33m:\u001b[0m\u001b[1;33m\u001b[0m\u001b[0m\n\u001b[1;32m---> 11\u001b[1;33m         \u001b[0msums\u001b[0m\u001b[1;33m=\u001b[0m\u001b[0msums\u001b[0m \u001b[1;33m+\u001b[0m \u001b[1;33m(\u001b[0m\u001b[0ma\u001b[0m\u001b[1;33m**\u001b[0m\u001b[1;33m(\u001b[0m\u001b[0mb\u001b[0m\u001b[1;33m)\u001b[0m\u001b[1;33m)\u001b[0m\u001b[1;33m/\u001b[0m\u001b[1;33m(\u001b[0m\u001b[0mfac\u001b[0m\u001b[1;33m*\u001b[0m\u001b[1;33m(\u001b[0m\u001b[1;33m-\u001b[0m\u001b[1;36m1\u001b[0m\u001b[1;33m)\u001b[0m\u001b[1;33m**\u001b[0m\u001b[0mk\u001b[0m\u001b[1;33m)\u001b[0m\u001b[1;33m\u001b[0m\u001b[0m\n\u001b[0m\u001b[0;32m     12\u001b[0m         \u001b[0merror\u001b[0m\u001b[1;33m=\u001b[0m\u001b[0mnp\u001b[0m\u001b[1;33m.\u001b[0m\u001b[0mabs\u001b[0m\u001b[1;33m(\u001b[0m\u001b[0mnp\u001b[0m\u001b[1;33m.\u001b[0m\u001b[0msin\u001b[0m\u001b[1;33m(\u001b[0m\u001b[0ma\u001b[0m\u001b[1;33m)\u001b[0m\u001b[1;33m-\u001b[0m\u001b[0msums\u001b[0m\u001b[1;33m)\u001b[0m\u001b[1;33m/\u001b[0m\u001b[0mnp\u001b[0m\u001b[1;33m.\u001b[0m\u001b[0mabs\u001b[0m\u001b[1;33m(\u001b[0m\u001b[0mnp\u001b[0m\u001b[1;33m.\u001b[0m\u001b[0msin\u001b[0m\u001b[1;33m(\u001b[0m\u001b[0ma\u001b[0m\u001b[1;33m)\u001b[0m\u001b[1;33m)\u001b[0m\u001b[1;33m\u001b[0m\u001b[0m\n\u001b[0;32m     13\u001b[0m         \u001b[0mfac\u001b[0m\u001b[1;33m=\u001b[0m\u001b[0mfac\u001b[0m\u001b[1;33m*\u001b[0m\u001b[1;33m(\u001b[0m\u001b[0mb\u001b[0m\u001b[1;33m+\u001b[0m\u001b[1;36m1\u001b[0m\u001b[1;33m)\u001b[0m\u001b[1;33m*\u001b[0m\u001b[1;33m(\u001b[0m\u001b[0mb\u001b[0m\u001b[1;33m+\u001b[0m\u001b[1;36m2\u001b[0m\u001b[1;33m)\u001b[0m\u001b[1;33m\u001b[0m\u001b[0m\n",
      "\u001b[1;31mKeyboardInterrupt\u001b[0m: "
     ]
    }
   ],
   "source": [
    "print( \"x\", \"imax\", \"sum\", \"|sum - sin(x)|/sin(x)\")\n",
    "for j in [4, 5, 6, 10, 30]:\n",
    "    print(Goodsum(j, 10**(-8)))"
   ]
  },
  {
   "cell_type": "markdown",
   "metadata": {},
   "source": [
    "For large number away from zero like 30, the algorithm would take too long to complete."
   ]
  },
  {
   "cell_type": "code",
   "execution_count": 26,
   "metadata": {},
   "outputs": [
    {
     "name": "stdout",
     "output_type": "stream",
     "text": [
      "Here I am using the sin(x+2n*pi)=sin(x) formula.\n",
      "x imax sum |sum - sin(x)|/sin(x)\n",
      "(-2.2831853071795862, 8.0, -0.7568024918601203, 4.5557568473519771e-09)\n",
      "(1.5707963267948966, 7.0, 1.0000000006627803, 6.6278027510691118e-10)\n",
      "(-1.2831853071795862, 6.0, -0.958924270588551, 4.2491232653960291e-09)\n",
      "(-0.28318530717958623, 4.0, -0.27941549816667366, 1.1542659255929851e-10)\n",
      "(-2.5663706143591725, 9.0, -0.5440211113737637, 8.9039472107771087e-10)\n",
      "(-1.4159265358979312, 7.0, -0.9880316242327937, 1.4162711245504947e-10)\n",
      "(-0.5309649148734152, 5.0, -0.5063656411334336, 4.6700499520629683e-11)\n"
     ]
    }
   ],
   "source": [
    "print(\"Here I am using the sin(x+2n*pi)=sin(x) formula.\")\n",
    "print( \"x\", \"imax\", \"sum\", \"|sum - sin(x)|/sin(x)\")\n",
    "sample= [4, 2.5*np.pi , 5, 6, 10, 30, 100]\n",
    "for j in np.arange(7):\n",
    "    while np.abs(sample[j]) > np.pi:\n",
    "        sample[j]=sample[j]-2*np.pi\n",
    "for k in sample:\n",
    "    print(Goodsum(k, 10**(-8)))"
   ]
  },
  {
   "cell_type": "markdown",
   "metadata": {},
   "source": [
    "\"Bad Way\"\n"
   ]
  },
  {
   "cell_type": "code",
   "execution_count": 34,
   "metadata": {
    "collapsed": true
   },
   "outputs": [],
   "source": [
    "def badsum( a=None, tolerance=None):\n",
    "    error=np.inf\n",
    "    k=1\n",
    "    while error > tolerance:\n",
    "        termsarray=np.zeros(k)\n",
    "        for i in np.arange(k, dtype=np.int64):\n",
    "            termsarray[i] =(a**(2*i+1))/(ma.factorial(2*i+1)*(-1)**i)\n",
    "        sums=np.sum(termsarray)\n",
    "        error=np.abs(np.sin(a)-sums)/np.abs(np.sin(a))\n",
    "        k=k+1                    \n",
    "    return(a, k-1, sums, error)\n"
   ]
  },
  {
   "cell_type": "code",
   "execution_count": 38,
   "metadata": {},
   "outputs": [
    {
     "name": "stdout",
     "output_type": "stream",
     "text": [
      "x imax sum |sum - sin(x)|/sin(x)\n",
      "(0.01, 2, 0.0099998333333333328, 8.3334555658333091e-11)\n",
      "(0.05, 3, 0.049979169270833339, 3.1014511281667759e-12)\n",
      "(0.1, 3, 0.099833416666666674, 1.9871622531017512e-10)\n",
      "(0.15, 3, 0.14943813281250001, 2.2678334552589338e-09)\n",
      "(0.2, 4, 0.19866933079365082, 7.0992315183418576e-12)\n",
      "(0.3, 4, 0.29552020660714284, 1.833942365347668e-10)\n",
      "(0.5, 5, 0.4794255386164159, 2.5474023339772714e-11)\n",
      "(1, 6, 0.84147098464806802, 1.8993938788946215e-10)\n",
      "(3, 10, 0.14112000785871492, 1.4253987938012473e-09)\n"
     ]
    }
   ],
   "source": [
    "print( \"x\", \"imax\", \"sum\", \"|sum - sin(x)|/sin(x)\")\n",
    "for j in [0.01, 0.05, 0.1, 0.15, 0.2, 0.3, 0.5, 1, 3]:\n",
    "    print(badsum(j, 10**(-8)))"
   ]
  },
  {
   "cell_type": "markdown",
   "metadata": {},
   "source": [
    "The \"bad\" sums converges for small number but not 10. It converges slightly differently than the \"good\" sums:\n",
    "\n",
    "x imax sum |sum - sin(x)|/sin(x)\n",
    "(0.01, 2.0, 0.009999833333333333, 8.3334555658333091e-11)\n",
    "(0.05, 3.0, 0.04997916927083334, 3.1014511281667759e-12)\n",
    "(0.1, 3.0, 0.09983341666666667, 1.9871622531017512e-10)\n",
    "(0.15, 3.0, 0.1494381328125, 2.2678334552589338e-09)\n",
    "(0.2, 4.0, 0.19866933079365082, 7.0992315183418576e-12)\n",
    "(0.3, 4.0, 0.29552020660714284, 1.833942365347668e-10)\n",
    "(0.5, 5.0, 0.4794255386164159, 2.5474023339772714e-11)\n",
    "(1, 6.0, 0.841470984648068, 1.8993938788946215e-10)\n",
    "(3, 10.0, 0.14112000785871492, 1.4253987938012473e-09)\n",
    "(10, 20.0, -0.5440211137210484, 5.2050896787711579e-09)"
   ]
  },
  {
   "cell_type": "code",
   "execution_count": 39,
   "metadata": {},
   "outputs": [
    {
     "ename": "KeyboardInterrupt",
     "evalue": "",
     "output_type": "error",
     "traceback": [
      "\u001b[1;31m---------------------------------------------------------------------------\u001b[0m",
      "\u001b[1;31mKeyboardInterrupt\u001b[0m                         Traceback (most recent call last)",
      "\u001b[1;32m<ipython-input-39-07bb12bf3729>\u001b[0m in \u001b[0;36m<module>\u001b[1;34m()\u001b[0m\n\u001b[1;32m----> 1\u001b[1;33m \u001b[0mprint\u001b[0m\u001b[1;33m(\u001b[0m\u001b[0mbadsum\u001b[0m\u001b[1;33m(\u001b[0m\u001b[1;36m10\u001b[0m\u001b[1;33m,\u001b[0m \u001b[1;36m10\u001b[0m\u001b[1;33m**\u001b[0m\u001b[1;33m(\u001b[0m\u001b[1;33m-\u001b[0m\u001b[1;36m8\u001b[0m\u001b[1;33m)\u001b[0m\u001b[1;33m)\u001b[0m\u001b[1;33m)\u001b[0m\u001b[1;33m\u001b[0m\u001b[0m\n\u001b[0m",
      "\u001b[1;32m<ipython-input-34-8ce17739cb58>\u001b[0m in \u001b[0;36mbadsum\u001b[1;34m(a, tolerance)\u001b[0m\n\u001b[0;32m      5\u001b[0m         \u001b[0mtermsarray\u001b[0m\u001b[1;33m=\u001b[0m\u001b[0mnp\u001b[0m\u001b[1;33m.\u001b[0m\u001b[0mzeros\u001b[0m\u001b[1;33m(\u001b[0m\u001b[0mk\u001b[0m\u001b[1;33m)\u001b[0m\u001b[1;33m\u001b[0m\u001b[0m\n\u001b[0;32m      6\u001b[0m         \u001b[1;32mfor\u001b[0m \u001b[0mi\u001b[0m \u001b[1;32min\u001b[0m \u001b[0mnp\u001b[0m\u001b[1;33m.\u001b[0m\u001b[0marange\u001b[0m\u001b[1;33m(\u001b[0m\u001b[0mk\u001b[0m\u001b[1;33m,\u001b[0m \u001b[0mdtype\u001b[0m\u001b[1;33m=\u001b[0m\u001b[0mnp\u001b[0m\u001b[1;33m.\u001b[0m\u001b[0mint64\u001b[0m\u001b[1;33m)\u001b[0m\u001b[1;33m:\u001b[0m\u001b[1;33m\u001b[0m\u001b[0m\n\u001b[1;32m----> 7\u001b[1;33m             \u001b[0mtermsarray\u001b[0m\u001b[1;33m[\u001b[0m\u001b[0mi\u001b[0m\u001b[1;33m]\u001b[0m \u001b[1;33m=\u001b[0m\u001b[1;33m(\u001b[0m\u001b[0ma\u001b[0m\u001b[1;33m**\u001b[0m\u001b[1;33m(\u001b[0m\u001b[1;36m2\u001b[0m\u001b[1;33m*\u001b[0m\u001b[0mi\u001b[0m\u001b[1;33m+\u001b[0m\u001b[1;36m1\u001b[0m\u001b[1;33m)\u001b[0m\u001b[1;33m)\u001b[0m\u001b[1;33m/\u001b[0m\u001b[1;33m(\u001b[0m\u001b[0mma\u001b[0m\u001b[1;33m.\u001b[0m\u001b[0mfactorial\u001b[0m\u001b[1;33m(\u001b[0m\u001b[1;36m2\u001b[0m\u001b[1;33m*\u001b[0m\u001b[0mi\u001b[0m\u001b[1;33m+\u001b[0m\u001b[1;36m1\u001b[0m\u001b[1;33m)\u001b[0m\u001b[1;33m*\u001b[0m\u001b[1;33m(\u001b[0m\u001b[1;33m-\u001b[0m\u001b[1;36m1\u001b[0m\u001b[1;33m)\u001b[0m\u001b[1;33m**\u001b[0m\u001b[0mi\u001b[0m\u001b[1;33m)\u001b[0m\u001b[1;33m\u001b[0m\u001b[0m\n\u001b[0m\u001b[0;32m      8\u001b[0m         \u001b[0msums\u001b[0m\u001b[1;33m=\u001b[0m\u001b[0mnp\u001b[0m\u001b[1;33m.\u001b[0m\u001b[0msum\u001b[0m\u001b[1;33m(\u001b[0m\u001b[0mtermsarray\u001b[0m\u001b[1;33m)\u001b[0m\u001b[1;33m\u001b[0m\u001b[0m\n\u001b[0;32m      9\u001b[0m         \u001b[0merror\u001b[0m\u001b[1;33m=\u001b[0m\u001b[0mnp\u001b[0m\u001b[1;33m.\u001b[0m\u001b[0mabs\u001b[0m\u001b[1;33m(\u001b[0m\u001b[0mnp\u001b[0m\u001b[1;33m.\u001b[0m\u001b[0msin\u001b[0m\u001b[1;33m(\u001b[0m\u001b[0ma\u001b[0m\u001b[1;33m)\u001b[0m\u001b[1;33m-\u001b[0m\u001b[0msums\u001b[0m\u001b[1;33m)\u001b[0m\u001b[1;33m/\u001b[0m\u001b[0mnp\u001b[0m\u001b[1;33m.\u001b[0m\u001b[0mabs\u001b[0m\u001b[1;33m(\u001b[0m\u001b[0mnp\u001b[0m\u001b[1;33m.\u001b[0m\u001b[0msin\u001b[0m\u001b[1;33m(\u001b[0m\u001b[0ma\u001b[0m\u001b[1;33m)\u001b[0m\u001b[1;33m)\u001b[0m\u001b[1;33m\u001b[0m\u001b[0m\n",
      "\u001b[1;31mKeyboardInterrupt\u001b[0m: "
     ]
    }
   ],
   "source": [
    "print(badsum(10, 10**(-8)))"
   ]
  },
  {
   "cell_type": "markdown",
   "metadata": {},
   "source": [
    "For number like 10 and above, the algorithm doesn't converge."
   ]
  },
  {
   "cell_type": "code",
   "execution_count": 48,
   "metadata": {},
   "outputs": [
    {
     "name": "stdout",
     "output_type": "stream",
     "text": [
      "x imax sum |sum - sin(x)|/sin(x)\n",
      "(0.01, 4.0, 0.009999833334166664, 0.0)\n",
      "(0.05, 4.0, 0.04997916927067833, 0.0)\n",
      "(-0.02, 4.0, -0.01999866669333308, 0.0)\n"
     ]
    },
    {
     "ename": "OverflowError",
     "evalue": "int too large to convert to float",
     "output_type": "error",
     "traceback": [
      "\u001b[1;31m---------------------------------------------------------------------------\u001b[0m",
      "\u001b[1;31mOverflowError\u001b[0m                             Traceback (most recent call last)",
      "\u001b[1;32m<ipython-input-48-9dbfb8e827bf>\u001b[0m in \u001b[0;36m<module>\u001b[1;34m()\u001b[0m\n\u001b[0;32m      1\u001b[0m \u001b[0mprint\u001b[0m\u001b[1;33m(\u001b[0m \u001b[1;34m\"x\"\u001b[0m\u001b[1;33m,\u001b[0m \u001b[1;34m\"imax\"\u001b[0m\u001b[1;33m,\u001b[0m \u001b[1;34m\"sum\"\u001b[0m\u001b[1;33m,\u001b[0m \u001b[1;34m\"|sum - sin(x)|/sin(x)\"\u001b[0m\u001b[1;33m)\u001b[0m\u001b[1;33m\u001b[0m\u001b[0m\n\u001b[0;32m      2\u001b[0m \u001b[1;32mfor\u001b[0m \u001b[0mj\u001b[0m \u001b[1;32min\u001b[0m \u001b[1;33m[\u001b[0m\u001b[1;36m0.01\u001b[0m\u001b[1;33m,\u001b[0m \u001b[1;36m0.05\u001b[0m\u001b[1;33m,\u001b[0m \u001b[1;33m-\u001b[0m\u001b[1;36m0.02\u001b[0m\u001b[1;33m,\u001b[0m \u001b[1;36m0.15\u001b[0m\u001b[1;33m,\u001b[0m \u001b[1;36m0.2\u001b[0m\u001b[1;33m,\u001b[0m \u001b[1;36m0.3\u001b[0m\u001b[1;33m,\u001b[0m \u001b[1;36m0.5\u001b[0m\u001b[1;33m,\u001b[0m \u001b[1;36m1\u001b[0m\u001b[1;33m,\u001b[0m \u001b[1;36m3\u001b[0m\u001b[1;33m,\u001b[0m\u001b[1;36m10\u001b[0m\u001b[1;33m]\u001b[0m\u001b[1;33m:\u001b[0m\u001b[1;33m\u001b[0m\u001b[0m\n\u001b[1;32m----> 3\u001b[1;33m     \u001b[0mprint\u001b[0m\u001b[1;33m(\u001b[0m\u001b[0mGoodsum\u001b[0m\u001b[1;33m(\u001b[0m\u001b[0mj\u001b[0m\u001b[1;33m,\u001b[0m \u001b[1;36m10\u001b[0m\u001b[1;33m**\u001b[0m\u001b[1;33m(\u001b[0m\u001b[1;33m-\u001b[0m\u001b[1;36m16\u001b[0m\u001b[1;33m)\u001b[0m\u001b[1;33m)\u001b[0m\u001b[1;33m)\u001b[0m\u001b[1;33m\u001b[0m\u001b[0m\n\u001b[0m",
      "\u001b[1;32m<ipython-input-23-d2b533684a8a>\u001b[0m in \u001b[0;36mGoodsum\u001b[1;34m(a, tolerance)\u001b[0m\n\u001b[0;32m      9\u001b[0m     \u001b[0mk\u001b[0m\u001b[1;33m=\u001b[0m\u001b[1;36m0\u001b[0m\u001b[1;33m\u001b[0m\u001b[0m\n\u001b[0;32m     10\u001b[0m     \u001b[1;32mwhile\u001b[0m \u001b[0merror\u001b[0m \u001b[1;33m>\u001b[0m \u001b[0mtolerance\u001b[0m\u001b[1;33m:\u001b[0m\u001b[1;33m\u001b[0m\u001b[0m\n\u001b[1;32m---> 11\u001b[1;33m         \u001b[0msums\u001b[0m\u001b[1;33m=\u001b[0m\u001b[0msums\u001b[0m \u001b[1;33m+\u001b[0m \u001b[1;33m(\u001b[0m\u001b[0ma\u001b[0m\u001b[1;33m**\u001b[0m\u001b[1;33m(\u001b[0m\u001b[0mb\u001b[0m\u001b[1;33m)\u001b[0m\u001b[1;33m)\u001b[0m\u001b[1;33m/\u001b[0m\u001b[1;33m(\u001b[0m\u001b[0mfac\u001b[0m\u001b[1;33m*\u001b[0m\u001b[1;33m(\u001b[0m\u001b[1;33m-\u001b[0m\u001b[1;36m1\u001b[0m\u001b[1;33m)\u001b[0m\u001b[1;33m**\u001b[0m\u001b[0mk\u001b[0m\u001b[1;33m)\u001b[0m\u001b[1;33m\u001b[0m\u001b[0m\n\u001b[0m\u001b[0;32m     12\u001b[0m         \u001b[0merror\u001b[0m\u001b[1;33m=\u001b[0m\u001b[0mnp\u001b[0m\u001b[1;33m.\u001b[0m\u001b[0mabs\u001b[0m\u001b[1;33m(\u001b[0m\u001b[0mnp\u001b[0m\u001b[1;33m.\u001b[0m\u001b[0msin\u001b[0m\u001b[1;33m(\u001b[0m\u001b[0ma\u001b[0m\u001b[1;33m)\u001b[0m\u001b[1;33m-\u001b[0m\u001b[0msums\u001b[0m\u001b[1;33m)\u001b[0m\u001b[1;33m/\u001b[0m\u001b[0mnp\u001b[0m\u001b[1;33m.\u001b[0m\u001b[0mabs\u001b[0m\u001b[1;33m(\u001b[0m\u001b[0mnp\u001b[0m\u001b[1;33m.\u001b[0m\u001b[0msin\u001b[0m\u001b[1;33m(\u001b[0m\u001b[0ma\u001b[0m\u001b[1;33m)\u001b[0m\u001b[1;33m)\u001b[0m\u001b[1;33m\u001b[0m\u001b[0m\n\u001b[0;32m     13\u001b[0m         \u001b[0mfac\u001b[0m\u001b[1;33m=\u001b[0m\u001b[0mfac\u001b[0m\u001b[1;33m*\u001b[0m\u001b[1;33m(\u001b[0m\u001b[0mb\u001b[0m\u001b[1;33m+\u001b[0m\u001b[1;36m1\u001b[0m\u001b[1;33m)\u001b[0m\u001b[1;33m*\u001b[0m\u001b[1;33m(\u001b[0m\u001b[0mb\u001b[0m\u001b[1;33m+\u001b[0m\u001b[1;36m2\u001b[0m\u001b[1;33m)\u001b[0m\u001b[1;33m\u001b[0m\u001b[0m\n",
      "\u001b[1;31mOverflowError\u001b[0m: int too large to convert to float"
     ]
    }
   ],
   "source": [
    "print( \"x\", \"imax\", \"sum\", \"|sum - sin(x)|/sin(x)\")\n",
    "for j in [0.01, 0.05, -0.02, 0.15, 0.2, 0.3, 0.5, 1, 3,10]:\n",
    "    print(Goodsum(j, 10**(-16)))"
   ]
  },
  {
   "cell_type": "markdown",
   "metadata": {},
   "source": [
    "When the tolerance is set to 10^(-16), the algorithm only converges in small number like 0.05, and the error is so small that the computer consider it to be zero."
   ]
  }
 ],
 "metadata": {
  "kernelspec": {
   "display_name": "Python 3",
   "language": "python",
   "name": "python3"
  },
  "language_info": {
   "codemirror_mode": {
    "name": "ipython",
    "version": 3
   },
   "file_extension": ".py",
   "mimetype": "text/x-python",
   "name": "python",
   "nbconvert_exporter": "python",
   "pygments_lexer": "ipython3",
   "version": "3.6.1"
  }
 },
 "nbformat": 4,
 "nbformat_minor": 2
}
